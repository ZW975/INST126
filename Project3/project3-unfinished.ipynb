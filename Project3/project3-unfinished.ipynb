{
 "cells": [
  {
   "cell_type": "code",
   "execution_count": null,
   "metadata": {},
   "outputs": [],
   "source": [
    "def suspicious_activities(f):\n",
    "    texts = f.readlines()\n",
    "\n",
    "def irresponsible_behavior(f):\n",
    "    texts = f.readlines()\n",
    "\n",
    "def system_glitch(f):\n",
    "    texts = f.readlines()\n",
    "\n",
    "def domain_count(f):\n",
    "    texts = f.readlines()\n",
    "\n",
    "\n",
    "\n",
    "\n",
    "\n",
    "\n",
    "\n",
    "f = open(\"userlog.log\")\n",
    "suspicious_activities(f)\n",
    "irresponsible_behavior(f)\n",
    "system_glitch(f)\n",
    "domain_count(f)"
   ]
  }
 ],
 "metadata": {
  "kernelspec": {
   "display_name": "Python 3",
   "language": "python",
   "name": "python3"
  },
  "language_info": {
   "codemirror_mode": {
    "name": "ipython",
    "version": 3
   },
   "file_extension": ".py",
   "mimetype": "text/x-python",
   "name": "python",
   "nbconvert_exporter": "python",
   "pygments_lexer": "ipython3",
   "version": "3.8.5"
  }
 },
 "nbformat": 4,
 "nbformat_minor": 4
}
