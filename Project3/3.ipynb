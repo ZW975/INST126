def suspicious_activities(f):
    texts = f.readlines()

def irresponsible_behavior(f):
    texts = f.readlines()

def system_glitch(f):
    texts = f.readlines()

def domain_count(f):
    texts = f.readlines()







f = open("userlog.log")
suspicious_activities(f)
irresponsible_behavior(f)
system_glitch(f)
domain_count(f)
